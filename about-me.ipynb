{
 "cells": [
  {
   "cell_type": "markdown",
   "metadata": {},
   "source": [
    "## About Me Lab: AI Engineering, Data Analytics & Data Science\n",
    "\n",
    "In this notebook, you'll write a short introduction about yourself using Python!\n",
    "\n",
    "### Instructions:\n",
    "- Fill in the variables below with your details.\n",
    "- Run the cell to print your introduction.\n",
    "\n",
    "### What to Include:\n",
    "- Your name.\n",
    "- Why you're interested in AI Engineering, Data Analytics or Data Science.\n",
    "- A fun fact about yourself or a goal for this course.\n"
   ]
  },
  {
   "cell_type": "code",
   "execution_count": 1,
   "metadata": {},
   "outputs": [
    {
     "name": "stdout",
     "output_type": "stream",
     "text": [
      "Hi! My name is Wilmer G. Acosta F.. I’m excited to learn because I have chosen Data Science & Machine Learning as a new direction of knowledge and work as i always had curiosity of the IT and this field has really called my attention, I see potential of ussing my skill in all fields to analyse data and predict future behaviours and decision making. A fun fact about me is: I though about using my new skills only for new employers, but know i realize the real power of the Data Science and i will be able to use it aswell in my own personal entrepreneurial projects, hurray!!.\n"
     ]
    }
   ],
   "source": [
    "# About Me\n",
    "# Please fill in the following details.\n",
    "\n",
    "name = \"Wilmer G. Acosta F.\"\n",
    "reason = \"I have chosen Data Science & Machine Learning as a new direction of knowledge and work as i always had curiosity of the IT and this field has really called my attention, I see potential of ussing my skill in all fields to analyse data and predict future behaviours and decision making\"\n",
    "fun_fact = \"I though about using my new skills only for new employers, but know i realize the real power of the Data Science and i will be able to use it aswell in my own personal entrepreneurial projects, hurray!!\"\n",
    "\n",
    "print(f\"Hi! My name is {name}. I’m excited to learn because {reason}. A fun fact about me is: {fun_fact}.\")"
   ]
  },
  {
   "cell_type": "code",
   "execution_count": null,
   "metadata": {},
   "outputs": [],
   "source": []
  }
 ],
 "metadata": {
  "kernelspec": {
   "display_name": "base",
   "language": "python",
   "name": "python3"
  },
  "language_info": {
   "codemirror_mode": {
    "name": "ipython",
    "version": 3
   },
   "file_extension": ".py",
   "mimetype": "text/x-python",
   "name": "python",
   "nbconvert_exporter": "python",
   "pygments_lexer": "ipython3",
   "version": "3.13.5"
  }
 },
 "nbformat": 4,
 "nbformat_minor": 2
}
